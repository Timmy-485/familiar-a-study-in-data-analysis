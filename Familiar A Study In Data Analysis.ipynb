{
 "cells": [
  {
   "cell_type": "code",
   "execution_count": null,
   "id": "3cbcf328",
   "metadata": {},
   "outputs": [],
   "source": [
    "import familiar as fam\n",
    "from scipy.stats import ttest_1samp\n",
    "from scipy.stats import ttest_ind\n",
    "from scipy.stats import chi2_contingency\n",
    "\n",
    "vein_pack_lifespans = fam.lifespans(package='vein')\n",
    "tstat, pval = ttest_1samp(vein_pack_lifespans, 71)\n",
    "print(pval)\n",
    "\n",
    "if pval < 0.05:\n",
    "  print(\"The Vein Pack Is Proven To Make You Live Longer!\")\n",
    "else:\n",
    "  print(\"The Vein Pack Is Probably Good For You Somehow!\")\n",
    "\n",
    "\n",
    "artery_pack_lifespans = fam.lifespans(package='artery')\n",
    "package_comparison_results = ttest_ind(vein_pack_lifespans, artery_pack_lifespans)\n",
    "tstat2, pval2 = package_comparison_results\n",
    "\n",
    "if pval2 < 0.05:\n",
    "  print(\"the Artery Package guarantees even stronger results!\")\n",
    "else:\n",
    "  print(\"the Artery Package is also a great product!\")\n",
    "\n",
    "\n",
    "iron_contingency_table = fam.iron_counts_for_package()\n",
    "tstat, iron_pvalue, dof, freq = chi2_contingency(iron_contingency_table)\n",
    "\n",
    "if iron_pvalue < 0.05:\n",
    "  print(\"The Artery Package Is Proven To Make You Healthier!\")\n",
    "else:\n",
    "  print(\"While We Can't Say The Artery Package Will Help You, I Bet It's Nice!\")"
   ]
  }
 ],
 "metadata": {
  "kernelspec": {
   "display_name": "Python 3",
   "language": "python",
   "name": "python3"
  },
  "language_info": {
   "codemirror_mode": {
    "name": "ipython",
    "version": 3
   },
   "file_extension": ".py",
   "mimetype": "text/x-python",
   "name": "python",
   "nbconvert_exporter": "python",
   "pygments_lexer": "ipython3",
   "version": "3.8.8"
  }
 },
 "nbformat": 4,
 "nbformat_minor": 5
}
